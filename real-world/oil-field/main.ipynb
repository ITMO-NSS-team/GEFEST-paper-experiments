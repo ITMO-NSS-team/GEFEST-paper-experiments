{
 "cells": [
  {
   "cell_type": "code",
   "execution_count": null,
   "metadata": {
    "id": "bQAsCEOPP8_-",
    "pycharm": {
     "name": "#%%\n"
    }
   },
   "outputs": [],
   "source": [
    "import timeit\n",
    "\n",
    "#for testing in Colab\n",
    "#import os\n",
    "#os.chdir('/content/drive/MyDrive/Диплом /GEFEST_impl/gefest_main')\n",
    "\n"
   ]
  },
  {
   "cell_type": "markdown",
   "metadata": {
    "pycharm": {
     "name": "#%% md\n"
    }
   },
   "source": [
    "Setting up the environment"
   ]
  },
  {
   "cell_type": "code",
   "execution_count": null,
   "metadata": {
    "colab": {
     "base_uri": "https://localhost:8080/"
    },
    "id": "q0qgUFkSRtVf",
    "outputId": "933cbce7-55c5-41f1-e728-e7b2e553196d",
    "pycharm": {
     "name": "#%%\n"
    }
   },
   "outputs": [
    {
     "name": "stdout",
     "output_type": "stream",
     "text": [
      "Ignoring dataclasses: markers 'python_version < \"3.7\"' don't match your environment\n",
      "Ignoring matplotlib: markers 'python_version == \"3.8\"' don't match your environment\n",
      "Requirement already satisfied: cython in /usr/local/lib/python3.7/dist-packages (from -r requirements.txt (line 1)) (0.29.28)\n",
      "Requirement already satisfied: numpy>=1.19.2 in /usr/local/lib/python3.7/dist-packages (from -r requirements.txt (line 3)) (1.21.6)\n",
      "Requirement already satisfied: pytest==5.2.0 in /usr/local/lib/python3.7/dist-packages (from -r requirements.txt (line 4)) (5.2.0)\n",
      "Requirement already satisfied: typing==3.7.4.1 in /usr/local/lib/python3.7/dist-packages (from -r requirements.txt (line 5)) (3.7.4.1)\n",
      "Requirement already satisfied: matplotlib==3.0.2 in /usr/local/lib/python3.7/dist-packages (from -r requirements.txt (line 6)) (3.0.2)\n",
      "Requirement already satisfied: seaborn==0.9.0 in /usr/local/lib/python3.7/dist-packages (from -r requirements.txt (line 8)) (0.9.0)\n",
      "Requirement already satisfied: MPh==0.7.6 in /usr/local/lib/python3.7/dist-packages (from -r requirements.txt (line 9)) (0.7.6)\n",
      "Requirement already satisfied: pickledb==0.9.2 in /usr/local/lib/python3.7/dist-packages (from -r requirements.txt (line 10)) (0.9.2)\n",
      "Requirement already satisfied: shapely==1.7.1 in /usr/local/lib/python3.7/dist-packages (from -r requirements.txt (line 11)) (1.7.1)\n",
      "Requirement already satisfied: bezier in /usr/local/lib/python3.7/dist-packages (from -r requirements.txt (line 12)) (2021.2.12)\n",
      "Requirement already satisfied: wcwidth in /usr/local/lib/python3.7/dist-packages (from pytest==5.2.0->-r requirements.txt (line 4)) (0.2.5)\n",
      "Requirement already satisfied: pluggy<1.0,>=0.12 in /usr/local/lib/python3.7/dist-packages (from pytest==5.2.0->-r requirements.txt (line 4)) (0.13.1)\n",
      "Requirement already satisfied: attrs>=17.4.0 in /usr/local/lib/python3.7/dist-packages (from pytest==5.2.0->-r requirements.txt (line 4)) (21.4.0)\n",
      "Requirement already satisfied: importlib-metadata>=0.12 in /usr/local/lib/python3.7/dist-packages (from pytest==5.2.0->-r requirements.txt (line 4)) (4.11.3)\n",
      "Requirement already satisfied: atomicwrites>=1.0 in /usr/local/lib/python3.7/dist-packages (from pytest==5.2.0->-r requirements.txt (line 4)) (1.4.0)\n",
      "Requirement already satisfied: packaging in /usr/local/lib/python3.7/dist-packages (from pytest==5.2.0->-r requirements.txt (line 4)) (21.3)\n",
      "Requirement already satisfied: more-itertools>=4.0.0 in /usr/local/lib/python3.7/dist-packages (from pytest==5.2.0->-r requirements.txt (line 4)) (8.12.0)\n",
      "Requirement already satisfied: py>=1.5.0 in /usr/local/lib/python3.7/dist-packages (from pytest==5.2.0->-r requirements.txt (line 4)) (1.11.0)\n",
      "Requirement already satisfied: pyparsing!=2.0.4,!=2.1.2,!=2.1.6,>=2.0.1 in /usr/local/lib/python3.7/dist-packages (from matplotlib==3.0.2->-r requirements.txt (line 6)) (3.0.8)\n",
      "Requirement already satisfied: kiwisolver>=1.0.1 in /usr/local/lib/python3.7/dist-packages (from matplotlib==3.0.2->-r requirements.txt (line 6)) (1.4.2)\n",
      "Requirement already satisfied: cycler>=0.10 in /usr/local/lib/python3.7/dist-packages (from matplotlib==3.0.2->-r requirements.txt (line 6)) (0.11.0)\n",
      "Requirement already satisfied: python-dateutil>=2.1 in /usr/local/lib/python3.7/dist-packages (from matplotlib==3.0.2->-r requirements.txt (line 6)) (2.8.2)\n",
      "Requirement already satisfied: scipy>=0.14.0 in /usr/local/lib/python3.7/dist-packages (from seaborn==0.9.0->-r requirements.txt (line 8)) (1.4.1)\n",
      "Requirement already satisfied: pandas>=0.15.2 in /usr/local/lib/python3.7/dist-packages (from seaborn==0.9.0->-r requirements.txt (line 8)) (1.3.5)\n",
      "Requirement already satisfied: JPype1 in /usr/local/lib/python3.7/dist-packages (from MPh==0.7.6->-r requirements.txt (line 9)) (1.3.0)\n",
      "Requirement already satisfied: typing-extensions>=3.6.4 in /usr/local/lib/python3.7/dist-packages (from importlib-metadata>=0.12->pytest==5.2.0->-r requirements.txt (line 4)) (4.2.0)\n",
      "Requirement already satisfied: zipp>=0.5 in /usr/local/lib/python3.7/dist-packages (from importlib-metadata>=0.12->pytest==5.2.0->-r requirements.txt (line 4)) (3.8.0)\n",
      "Requirement already satisfied: pytz>=2017.3 in /usr/local/lib/python3.7/dist-packages (from pandas>=0.15.2->seaborn==0.9.0->-r requirements.txt (line 8)) (2022.1)\n",
      "Requirement already satisfied: six>=1.5 in /usr/local/lib/python3.7/dist-packages (from python-dateutil>=2.1->matplotlib==3.0.2->-r requirements.txt (line 6)) (1.15.0)\n"
     ]
    }
   ],
   "source": [
    "! pip install -r requirements.txt "
   ]
  },
  {
   "cell_type": "markdown",
   "metadata": {
    "pycharm": {
     "name": "#%% md\n"
    }
   },
   "source": [
    "Setting up field, well, road and simulation parameters for experiments"
   ]
  },
  {
   "cell_type": "code",
   "execution_count": null,
   "metadata": {
    "colab": {
     "base_uri": "https://localhost:8080/"
    },
    "id": "lyBSSr6k1nWf",
    "outputId": "64eb7450-f3bb-4f34-dac4-63e217cd3fe5",
    "pycharm": {
     "name": "#%%\n"
    }
   },
   "outputs": [
    {
     "name": "stdout",
     "output_type": "stream",
     "text": [
      "The data is correctly read and processed. Deposit size: (60, 220, 85). Size of the cut field: (20, 20, 20).\n"
     ]
    }
   ],
   "source": [
    "import configparser\n",
    "import numpy as np\n",
    "\n",
    "from read_data import read_data\n",
    "from structures.field import impossible_points_generation, Field\n",
    "from structures.well import Well\n",
    "from structures.simulation import simulation\n",
    "from optimize_wells import Optimization_alg\n",
    "from functions import NPV\n",
    "\n",
    "config = configparser.ConfigParser()\n",
    "config.read('config.ini')\n",
    "\n",
    "field_parameters = config['Field Parameters']\n",
    "road_parameters = config['Road Parameters']\n",
    "well_parameters = config['Well Parameters']\n",
    "simulation_parameters = config['Simulation Parameters']\n",
    "\n",
    "data_path = field_parameters.get('data_path', fallback = './data/spe_phi.dat')\n",
    "\n",
    "count_impossible_points = field_parameters.getint('count_impossible_points', fallback = 5)\n",
    "\n",
    "deposit_size_x = field_parameters.getint('size_x', fallback = 60)\n",
    "deposit_size_y = field_parameters.getint('size_y', fallback = 220)\n",
    "deposit_size_z = field_parameters.getint('size_z', fallback = 85)\n",
    "deposit_size = (deposit_size_x, deposit_size_y, deposit_size_z)\n",
    "\n",
    "size_x = field_parameters.getint('field_size_x', fallback = 20)\n",
    "size_y = field_parameters.getint('field_size_y', fallback = 20)\n",
    "size_z = field_parameters.getint('field_size_z', fallback = 20)\n",
    "field_size = (size_x, size_y, size_z)\n",
    "\n",
    "r = well_parameters.getint('r', fallback = 2)\n",
    "\n",
    "T = simulation_parameters.getint('T', fallback = 10)\n",
    "production_volume = simulation_parameters.getint('v', fallback = 40)\n",
    "price_oil = simulation_parameters.getint('price_oil', fallback = 70)\n",
    "\n",
    "data = read_data(data_path, deposit_size, field_size)\n",
    "\n",
    "\n"
   ]
  },
  {
   "cell_type": "markdown",
   "metadata": {
    "pycharm": {
     "name": "#%% md\n"
    }
   },
   "source": [
    "Creating and saving random maps of inaccessible points for experiments with 2, 4, 6, 10, 20%."
   ]
  },
  {
   "cell_type": "code",
   "execution_count": null,
   "metadata": {
    "colab": {
     "base_uri": "https://localhost:8080/"
    },
    "id": "AsvxYgtLRTC1",
    "outputId": "c3780328-790b-49e0-f3fe-fd159ab7e24d",
    "pycharm": {
     "name": "#%%\n"
    }
   },
   "outputs": [
    {
     "name": "stderr",
     "output_type": "stream",
     "text": [
      "/usr/local/lib/python3.7/dist-packages/statsmodels/tools/_testing.py:19: FutureWarning: pandas.util.testing is deprecated. Use the functions in the public API at pandas.testing instead.\n",
      "  import pandas.util.testing as tm\n"
     ]
    }
   ],
   "source": [
    "import timeit\n",
    "\n",
    "import matplotlib.pyplot as plt\n",
    "\n",
    "from gefest.core.geometry.geometry_2d import Geometry2D\n",
    "from gefest.core.opt.analytics import EvoAnalytics\n",
    "from gefest.core.opt.optimize import optimize\n",
    "from gefest.core.opt.setup import Setup\n",
    "from gefest.core.structure.domain import Domain\n",
    "from gefest.core.structure.structure import Structure, distance, get_random_poly\n",
    "from gefest.core.structure.point import Point\n",
    "from gefest.core.viz.struct_vizualizer import StructVizualizer\n",
    "from gefest.core.structure.polygon import Polygon\n",
    "\n",
    "import numpy as np\n",
    "\n",
    "def create_invalid_points(rate = 0.05):\n",
    "  invalid_points = [[],[]]\n",
    "  is_closed = True\n",
    "  geometry = Geometry2D(is_closed=is_closed)\n",
    "  domain = Domain(allowed_area=[(0, 0),\n",
    "                                (0, 20),\n",
    "                                (20, 20),\n",
    "                                (20, 0),\n",
    "                                (0, 0)],\n",
    "                  geometry=geometry,\n",
    "                  max_poly_num=1,\n",
    "                  min_poly_num=1,\n",
    "                  max_points_num=10,\n",
    "                  min_points_num=3,\n",
    "                  is_closed=is_closed)\n",
    "  \n",
    "  \n",
    "  count_ = 400 * rate\n",
    "  counter_ = 0 \n",
    "  structure = Structure([])\n",
    "  \n",
    "  while counter_ < count_:\n",
    "    poly = get_random_poly(structure, domain, invalid_points = invalid_points)\n",
    "\n",
    "\n",
    "    for i in range(20, 0, -1):\n",
    "      for j in range(20):\n",
    "        if geometry.is_contain_point(poly, Point(i, j)) and counter_ < count_:\n",
    "          invalid_points[0].append(i)\n",
    "          invalid_points[1].append(j)\n",
    "          counter_ += 1\n",
    "\n",
    "  print(f'Created invalid_points: {rate}, {len(invalid_points[0])}')\n",
    "  return invalid_points\n",
    "invalid_areas_2 =[[[6, 6, 14, 13, 13, 12, 12, 12], [6, 7, 13, 13, 14, 14, 15, 16]],\n",
    "                [[14, 14, 14, 13, 13, 13, 13, 13], [6, 7, 8, 4, 5, 6, 7, 8]],\n",
    "                [[7, 7, 6, 6, 6, 6, 6, 5], [10, 11, 7, 8, 9, 10, 11, 7]]]\n",
    "invalid_areas_4 = [[[16, 15, 15, 14, 14, 14, 17, 17, 17, 17, 17, 17, 18, 18, 18, 18], [1, 1, 2, 1, 2, 3, 4, 5, 6, 7, 8, 9, 6, 7, 8, 9]],\n",
    "                   [[3, 3, 3, 3, 3, 2, 2, 2, 1, 3, 19, 19, 19, 19, 18, 18], [16, 17, 18, 19, 15, 18, 19, 15, 16, 18, 2, 3, 4, 5, 2, 3]],\n",
    "                   [[10, 10, 10, 10, 10, 10, 11, 11, 11, 11, 12, 12, 1, 2, 2, 2], [6, 7, 8, 9, 10, 11, 8, 9, 10, 7, 8, 9, 16, 15, 16, 17]]]\n",
    "invalid_areas_6 = [[[7, 7, 7, 6, 6, 6, 6, 6, 6, 5, 5, 5, 5, 5, 5, 5, 4, 4, 4, 4, 4, 4, 4, 4], [14, 15, 16, 11, 12, 13, 14, 15, 16, 9, 10, 11, 12, 13, 14, 15, 8, 9, 10, 11, 12, 13, 14, 15]],\n",
    "                   [[10, 10, 9, 9, 9, 9, 8, 8, 8, 8, 7, 7, 7, 7, 7, 6, 6, 6, 6, 5, 5, 5, 5, 4], [17, 18, 16, 17, 18, 19, 16, 17, 18, 19, 16, 17, 18, 19, 15, 15, 16, 17, 18, 15, 16, 17, 18, 19]],\n",
    "                   [[4, 4, 4, 4, 13, 13, 13, 13, 13, 13, 13, 13, 12, 12, 12, 12, 12, 12, 12, 11, 11, 11, 11, 11], [12, 13, 14, 15, 1, 2, 3, 4, 5, 6, 7, 8, 1, 2, 3, 4, 5, 6, 7, 3, 4, 5, 6, 7]]]\n",
    "invalid_areas_10 = [[[13, 13, 13, 13, 12, 12, 12, 12, 12, 12, 12, 11, 11, 11, 11, 11, 11, 11, 11, 11, 11, 10, 10, 10, 10, 10, 10, 10, 10, 10, 10, 10, 10, 10, 9, 9, 9, 9, 9, 9], [16, 17, 18, 19, 13, 14, 15, 16, 17, 18, 19, 10, 11, 12, 13, 14, 15, 16, 17, 18, 19, 7, 8, 9, 10, 11, 12, 13, 14, 15, 16, 17, 18, 19, 8, 9, 10, 11, 12, 13]],\n",
    "                    [[12, 11, 11, 10, 10, 10, 9, 9, 9, 9, 9, 8, 8, 8, 8, 7, 7, 7, 7, 7, 7, 6, 6, 6, 6, 6, 6, 5, 5, 5, 5, 5, 5, 5, 4, 4, 4, 4, 4, 4], [2, 2, 3, 2, 3, 4, 1, 2, 3, 4, 5, 1, 2, 3, 4, 1, 2, 3, 17, 18, 19, 14, 15, 16, 17, 18, 19, 13, 14, 15, 16, 17, 18, 19, 14, 15, 16, 17, 18, 19]],\n",
    "                    [[19, 9, 9, 9, 8, 8, 7, 13, 12, 12, 11, 11, 11, 11, 10, 10, 10, 10, 10, 9, 9, 9, 9, 9, 9, 9, 8, 8, 8, 8, 8, 8, 8, 7, 7, 7, 7, 7, 7, 6], [9, 13, 14, 15, 14, 15, 15, 15, 14, 15, 13, 14, 15, 16, 12, 13, 14, 15, 16, 11, 12, 13, 14, 15, 16, 17, 11, 12, 13, 14, 15, 16, 17, 12, 13, 14, 15, 16, 17, 13]]]                \n",
    "invalid_areas_20 = [[[18, 18, 18, 10, 10, 10, 10, 10, 10, 14, 13, 12, 12, 12, 11, 11, 11, 10, 10, 10, 10, 9, 9, 9, 9, 8, 8, 8, 8, 8, 7, 7, 7, 7, 7, 6, 6, 6, 6, 6, 6, 14, 13, 13, 12, 12, 12, 11, 18, 18, 17, 17, 16, 18, 18, 18, 18, 17, 17, 17, 16, 16, 15, 7, 6, 5, 4, 16, 15, 15, 14, 14, 13, 13, 13, 12, 12, 12, 11, 11], [12, 13, 14, 9, 10, 11, 12, 13, 14, 5, 5, 4, 5, 6, 4, 5, 6, 3, 4, 5, 6, 3, 4, 5, 6, 2, 3, 4, 5, 6, 2, 3, 4, 5, 6, 1, 2, 3, 4, 5, 6, 1, 1, 2, 1, 2, 3, 1, 1, 2, 1, 2, 1, 5, 6, 7, 8, 5, 6, 7, 5, 6, 5, 1, 1, 1, 1, 1, 1, 2, 1, 2, 1, 2, 3, 1, 2, 3, 1, 2]],\n",
    "                    [[10, 10, 10, 10, 10, 9, 9, 9, 9, 9, 9, 8, 8, 8, 8, 8, 8, 8, 7, 7, 7, 7, 7, 7, 7, 6, 6, 6, 6, 6, 6, 6, 5, 5, 5, 5, 9, 9, 9, 9, 9, 8, 8, 8, 8, 7, 7, 7, 6, 6, 5, 10, 9, 9, 8, 8, 8, 7, 7, 7, 6, 6, 11, 11, 11, 10, 10, 10, 10, 10, 10, 9, 9, 9, 9, 9, 9, 9, 9, 8], [3, 4, 5, 6, 7, 3, 4, 5, 6, 7, 8, 2, 3, 4, 5, 6, 7, 8, 2, 3, 4, 5, 6, 7, 8, 2, 3, 4, 5, 6, 7, 8, 3, 4, 5, 6, 14, 15, 16, 17, 18, 15, 16, 17, 18, 16, 17, 18, 17, 18, 18, 17, 16, 17, 15, 16, 17, 15, 16, 17, 16, 17, 12, 13, 14, 12, 13, 14, 15, 16, 17, 12, 13, 14, 15, 16, 17, 18, 19, 12]],\n",
    "                    [[9, 8, 8, 7, 7, 7, 14, 14, 14, 14, 13, 13, 11, 19, 19, 13, 13, 12, 12, 12, 12, 11, 11, 11, 11, 12, 11, 11, 11, 10, 10, 10, 10, 9, 9, 9, 9, 9, 9, 8, 8, 8, 8, 8, 8, 8, 7, 7, 7, 7, 7, 7, 7, 7, 6, 6, 6, 6, 6, 6, 6, 6, 5, 5, 5, 5, 5, 5, 5, 5, 5, 4, 4, 4, 4, 4, 4, 4, 4, 4], [3, 2, 3, 1, 2, 3, 2, 3, 4, 5, 3, 4, 6, 4, 5, 12, 13, 11, 12, 13, 14, 11, 12, 13, 14, 19, 17, 18, 19, 16, 17, 18, 19, 14, 15, 16, 17, 18, 19, 13, 14, 15, 16, 17, 18, 19, 12, 13, 14, 15, 16, 17, 18, 19, 12, 13, 14, 15, 16, 17, 18, 19, 11, 12, 13, 14, 15, 16, 17, 18, 19, 11, 12, 13, 14, 15, 16, 17, 18, 19]]]\n",
    " "
   ]
  },
  {
   "cell_type": "markdown",
   "metadata": {
    "pycharm": {
     "name": "#%% md\n"
    }
   },
   "source": [
    "General criterion for comparing algorithms"
   ]
  },
  {
   "cell_type": "code",
   "execution_count": null,
   "metadata": {
    "id": "PdDJBiSpyg61",
    "pycharm": {
     "name": "#%%\n"
    }
   },
   "outputs": [],
   "source": [
    "def npv_joint(struct: Structure, start_point = (0, 0), end_point = (20, 20), coord_wells = [[], []], npv_f = None, wells = None, invalid_points = [[], []]):\n",
    "    npv_value = 0\n",
    "\n",
    "    l = []\n",
    "    p = []\n",
    "    for poly in struct.polygons:\n",
    "        l.append(geometry.get_length(poly))\n",
    "        p.append(poly.points)\n",
    "    length = sum(l)\n",
    "    \n",
    "    ratio = length \n",
    "    ratio += dist_to_extreme_point(start_point, p[0][0]) + dist_to_extreme_point(end_point, p[0][-1])\n",
    "    for i in range(len(invalid_points[0])):\n",
    "        if distance(Point(invalid_points[0][i], invalid_points[1][i]), struct, geometry) <= 0.5:\n",
    "            ratio += 4\n",
    "    npv_value = - ratio * 3000 - npv_f.calculated_NPV(wells, struct)\n",
    "\n",
    "    return npv_value"
   ]
  },
  {
   "cell_type": "markdown",
   "metadata": {
    "pycharm": {
     "name": "#%% md\n"
    }
   },
   "source": [
    "NPV for a naive approach"
   ]
  },
  {
   "cell_type": "code",
   "execution_count": null,
   "metadata": {
    "id": "V2zyQu57cCxj",
    "pycharm": {
     "name": "#%%\n"
    }
   },
   "outputs": [],
   "source": [
    "def npv_through_wells(coord_wells = [[], []], start_point = (0, 0), end_point = (20, 20), wells = None):\n",
    "    points = []\n",
    "    points.append(Point(*start_point))\n",
    "    arg = np.argsort(coord_wells[0])\n",
    "    coord_wells[0] = np.array(coord_wells[0])[arg]\n",
    "    coord_wells[1] = np.array(coord_wells[1])[arg]\n",
    "    for i in range(coord_wells[0].shape[0]):\n",
    "        points.append(Point(coord_wells[0][i], coord_wells[1][i]))\n",
    "    points.append(Point(*end_point))\n",
    "\n",
    "    poly = Polygon('naive_help', points=points)\n",
    "    npv_value = - npv_f.calculated_NPV(wells) - geometry.get_length(poly) * 3000  \n",
    "\n",
    "    return npv_value\n"
   ]
  },
  {
   "cell_type": "markdown",
   "metadata": {
    "pycharm": {
     "name": "#%% md\n"
    }
   },
   "source": [
    "General experiment generator"
   ]
  },
  {
   "cell_type": "code",
   "execution_count": null,
   "metadata": {
    "id": "bqWNGyq6GD2U",
    "pycharm": {
     "name": "#%%\n"
    }
   },
   "outputs": [],
   "source": [
    "def exp_with_rate(count_well = 5, rate = [0.00], rate_example = None, count_run = 5, count_run_rate = 5, joint = True, pso = False):\n",
    "  npv_joint_mean = []\n",
    "  npv_joint_mean_notjoint = []\n",
    "  \n",
    "  for rate_ in rate:\n",
    "    print(f'Starting exp with rate: {rate_}')\n",
    "    npv_joint_mean_rate = []\n",
    "    npv_joint_mean_rate_notjoint = []\n",
    "    for i in range(count_run_rate):\n",
    "      step = 10\n",
    "      if joint:\n",
    "        step = 20\n",
    "      print(f'Exp with rate: {rate_}, (No. {i} of {count_run_rate}), joint: {joint}')\n",
    "      if rate_example is None: \n",
    "          invalid_points = create_invalid_points(rate_)\n",
    "      else:\n",
    "          invalid_points = rate_example[i]\n",
    "      if not pso:\n",
    "          optimized_well_, optimized_road_, history, history_road = algo(joint = joint, count_well = count_well, count_run = count_run, \n",
    "                                                                        invalid_points = invalid_points)\n",
    "      else:\n",
    "          optimized_well_, optimized_road_, history, history_road = algo_PSO(joint = joint, count_well = count_well, count_run = count_run, \n",
    "                                                                        invalid_points = invalid_points)\n",
    "\n",
    "      history_boxplot = [[history[j][i] for j in range(len(history))] for i in range(len(history[0]))]\n",
    "      \n",
    "      flierprops = dict(marker='.', \n",
    "                  linestyle='none')\n",
    "      \n",
    "      plt.boxplot(history_boxplot, meanline = True, flierprops = flierprops)\n",
    "      plt.plot(range(1, len(history_boxplot) + 1), np.mean(history_boxplot, axis = 1), label = 'Average NPV value for 5 runs')\n",
    "      plt.xticks(range(1, len(history_boxplot) + 1, 2), [step * i * 2 + step for i in range(len(history_boxplot))], rotation=90)\n",
    "      plt.xlabel('Iteration number')\n",
    "      plt.ylabel('NPV values')\n",
    "      plt.legend()\n",
    "      plt.title(f'Learning curve for optimizing the location of {count_well} wells \\n with considering and optimizing roads')\n",
    "      plt.show()\n",
    "\n",
    "      history_boxplot_road = [[history_road[j][i] for j in range(len(history_road))] for i in range(len(history_road[0]))]\n",
    "\n",
    "      flierprops = dict(marker='.', \n",
    "                  linestyle='none')\n",
    "      plt.boxplot(history_boxplot_road, meanline = True, flierprops = flierprops)\n",
    "      plt.plot(range(1, len(history_boxplot_road) + 1), np.mean(history_boxplot_road, axis = 1), label = 'Average NPV roads value for 5 runs')\n",
    "      plt.xticks(range(1, len(history_boxplot_road) + 1), [step * i + step for i in range(len(history_boxplot_road))], rotation=90)\n",
    "      plt.xlabel('Iteration number')\n",
    "      plt.ylabel('NPV roads values')\n",
    "      plt.legend()\n",
    "      plt.title(f'Learning curve for optimizing the location of roads \\n with considering and optimizing {count_well} wells')\n",
    "      plt.show()\n",
    "\n",
    "      npv_joint_mean_rate.append(np.mean([npv_joint(optimized_road_[i], npv_f = npv_f, \n",
    "                                                    wells = optimized_well_[i], invalid_points = invalid_points) for i in range(count_run)]))\n",
    "      print(f'{joint}:', npv_joint_mean_rate)\n",
    "\n",
    "      print(f'Exp with rate: {rate_}, (No. {i} of {count_run_rate}), joint: {not joint}')\n",
    "      step = 10\n",
    "      if not joint:\n",
    "        step = 20\n",
    "      if not pso:\n",
    "          optimized_well_notjoint, optimized_road_notjoint, history_notjoint, history_road_notjoint = algo(joint = not joint, \n",
    "                                                                                                          count_well = count_well, \n",
    "                                                                                                          count_run = count_run, \n",
    "                                                                                                          invalid_points = invalid_points)\n",
    "      else: \n",
    "          optimized_well_notjoint, optimized_road_notjoint, history_notjoint, history_road_notjoint = algo_PSO(joint = not joint, \n",
    "                                                                                                          count_well = count_well, \n",
    "                                                                                                          count_run = count_run, \n",
    "                                                                                                          invalid_points = invalid_points)\n",
    "\n",
    "      history_boxplot_notjoint = [[history_notjoint[j][i] for j in range(len(history_notjoint))] for i in range(len(history_notjoint[0]))]\n",
    "\n",
    "      flierprops = dict(marker='.', \n",
    "                  linestyle='none')\n",
    "      \n",
    "      plt.boxplot(history_boxplot_notjoint, meanline = True, flierprops = flierprops)\n",
    "      plt.plot(range(1, len(history_boxplot_notjoint) + 1), np.mean(history_boxplot_notjoint, axis = 1), \n",
    "               label = 'Average NPV value for 5 runs')\n",
    "      plt.xticks(range(1, len(history_boxplot_notjoint) + 1, 2), [step * i * 2 + step for i in range(len(history_boxplot_notjoint))], rotation=90)\n",
    "      plt.xlabel('Iteration number')\n",
    "      plt.ylabel('NPV values')\n",
    "      plt.legend()\n",
    "      plt.title(f'Learning curve for optimizing the location of {count_well} wells \\n with considering and optimizing roads')\n",
    "      plt.show()\n",
    "\n",
    "      history_boxplot_road_notjoint = [[history_road_notjoint[j][i] for j in range(len(history_road_notjoint))] \n",
    "                                       for i in range(len(history_road_notjoint[0]))]\n",
    "\n",
    "      flierprops = dict(marker='.', \n",
    "                  linestyle='none')\n",
    "      plt.boxplot(history_boxplot_road_notjoint, meanline = True, flierprops = flierprops)\n",
    "      plt.plot(range(1, len(history_boxplot_road_notjoint) + 1), \n",
    "               np.mean(history_boxplot_road_notjoint, axis = 1), label = 'Average NPV roads value for 5 runs')\n",
    "      plt.xticks(range(1, len(history_boxplot_road_notjoint) + 1), [step * i + step for i in range(len(history_boxplot_road_notjoint))], \n",
    "                 rotation=90)\n",
    "      plt.xlabel('Iteration number')\n",
    "      plt.ylabel('NPV roads values')\n",
    "      plt.legend()\n",
    "      plt.title(f'Learning curve for optimizing the location of roads \\n with considering and optimizing {count_well} wells')\n",
    "      plt.show()\n",
    "\n",
    "      npv_joint_mean_rate_notjoint.append(np.mean([npv_joint(optimized_road_notjoint[i], npv_f = npv_f, \n",
    "                                                    wells = optimized_well_notjoint[i], invalid_points = invalid_points) for i in range(count_run)]))\n",
    "      \n",
    "      print(f'{not joint}:', npv_joint_mean_rate_notjoint)\n",
    "\n",
    "    npv_joint_mean.append(npv_joint_mean_rate)\n",
    "    npv_joint_mean_notjoint.append(npv_joint_mean_rate_notjoint)\n",
    "\n",
    "\n",
    "  print(f'{joint}:', npv_joint_mean)\n",
    "  print(f'{not joint}:', npv_joint_mean_notjoint)"
   ]
  },
  {
   "cell_type": "markdown",
   "metadata": {
    "pycharm": {
     "name": "#%% md\n"
    }
   },
   "source": [
    "Implementation of experiments of the naive approach with GA"
   ]
  },
  {
   "cell_type": "code",
   "execution_count": null,
   "metadata": {
    "id": "PUQ1ZE7-eJCw",
    "pycharm": {
     "name": "#%%\n"
    }
   },
   "outputs": [],
   "source": [
    "def naive_approach(count_well = 5, count_run = 5, with_opimization_parameter = False, max_iter = 200):\n",
    "    if with_opimization_parameter:\n",
    "        mp_list = [0.05 + 0.05 * i for i in range(19)]\n",
    "        cp_list = [0.05 + 0.05 * i for i in range(19)]\n",
    "    else: \n",
    "        mp_list = [0.55]\n",
    "        cp_list = [0.95]\n",
    "    dict_result = {}\n",
    "    best_result = 0\n",
    "    best_param = (0.0, 0.0)\n",
    "    for mp in mp_list:\n",
    "        for cp in cp_list:\n",
    "            result_list = []\n",
    "            if not with_opimization_parameter: \n",
    "                result_plot = []\n",
    "            for run_ in range(count_run):\n",
    "                print(f'Experiment (No. {run_} of {count_run}) for naive approach with mp: {mp}, cp: {cp}')\n",
    "                result_one_plot = []\n",
    "                parameters_for_GA_well = {'max_num_iteration': max_iter // 20,\n",
    "                                        'population_size_well': 50,\n",
    "                                        'mutation_probability': 0.6,\n",
    "                                        'crossover_probability': 0.9, \n",
    "                                        'parents_portion': 0.3,\n",
    "                                        'elit_ratio': 0.01,\n",
    "                                        'r_mut': 2,\n",
    "                                        'crossover_type':'uniform'}\n",
    "                \n",
    "                parameters_for_well = {'count_well': count_well, \n",
    "                                          'r': 2}\n",
    "                opt_wells = Optimization_alg(field, parameters_for_well, parameters_for_GA_well, npv_f, invalid_points = [[], []])\n",
    "                pop_well = None \n",
    "                for _ in range(20):\n",
    "                \n",
    "                  pop_well, optimized_well = opt_wells.run(road_structure = None, init_pop = pop_well)\n",
    "                  coord_wells = [[well.start[0] for well in optimized_well], [well.start[1] for well in optimized_well]]\n",
    "                  result_one_plot.append(npv_through_wells(coord_wells = coord_wells, wells = optimized_well))\n",
    "                print('NPV naive approch:', npv_through_wells(coord_wells = coord_wells, wells = optimized_well))\n",
    "                result_plot.append(result_one_plot)\n",
    "                result_list.append(npv_through_wells(coord_wells = coord_wells, wells = optimized_well))\n",
    "            dict_result[(mp, cp)] = result_list\n",
    "            if best_result < np.mean(result_list):\n",
    "                best_result = np.mean(result_list)\n",
    "                best_param = (mp, cp)\n",
    "            print(f'NPV results for ({mp, cp}): {np.mean(result_list)}, best result: {best_result} {best_param}')\n",
    "    if with_opimization_parameter:\n",
    "      return dict_result\n",
    "    else:\n",
    "      return result_plot"
   ]
  },
  {
   "cell_type": "markdown",
   "metadata": {
    "pycharm": {
     "name": "#%% md\n"
    }
   },
   "source": [
    "A naive PSO-based approach"
   ]
  },
  {
   "cell_type": "code",
   "execution_count": null,
   "metadata": {
    "id": "U6WNFrYCvLf7",
    "pycharm": {
     "name": "#%%\n"
    }
   },
   "outputs": [],
   "source": [
    "from pso import PSO\n",
    "\n",
    "def naive_approach_PSO(count_well = 5, count_run = 5, with_opimization_parameter = False, max_iter = 200):\n",
    "    if with_opimization_parameter:\n",
    "        c_list = [0.5 + 0.1 * i for i in range(20)]\n",
    "        w_list = [0.05 + 0.05 * i for i in range(19)]\n",
    "    else: \n",
    "        c_list = [1.193]\n",
    "        w_list = [0.721]\n",
    "    dict_result = {}\n",
    "    best_result = 0\n",
    "    best_param = (0.0, 0.0)\n",
    "    for c in c_list:\n",
    "        for w in w_list:\n",
    "            result_list = []\n",
    "            if not with_opimization_parameter: \n",
    "                result_plot = []\n",
    "            for run_ in range(count_run):\n",
    "                print(f'Experiment (No. {run_} of {count_run}) for naive approach with c: {c}, w: {w}')\n",
    "                result_one_plot = []\n",
    "                parameters_for_PSO_well = {'max_num_iteration': max_iter // 20,\n",
    "                                        'population_size_well': 50,\n",
    "                                        'c0': c,\n",
    "                                        'c1': c, \n",
    "                                        'w': w}\n",
    "                \n",
    "                parameters_for_well = {'count_well': count_well, \n",
    "                                          'r': 2}\n",
    "                \n",
    "                pop_well = None \n",
    "                optimized_well = None\n",
    "                for _ in range(20):\n",
    "                    pso_algo = PSO(field, parameters_for_PSO_well['population_size_well'],\n",
    "                               parameters_for_well, parameters_for_PSO_well['c0'],\n",
    "                               parameters_for_PSO_well['c1'], parameters_for_PSO_well['c1'], pop = pop_well, npv = npv_f, best = optimized_well)\n",
    "                    \n",
    "                    pop_well, optimized_well = pso_algo.optimize(parameters_for_PSO_well['max_num_iteration'])\n",
    "                    coord_wells = [[well.start[0] for well in optimized_well], [well.start[1] for well in optimized_well]]\n",
    "                    result_one_plot.append(npv_through_wells(coord_wells = coord_wells, wells = optimized_well))\n",
    "                print('NPV naive approch:', npv_through_wells(coord_wells = coord_wells, wells = optimized_well))\n",
    "                if not with_opimization_parameter: \n",
    "                    result_plot.append(result_one_plot)\n",
    "                result_list.append(npv_through_wells(coord_wells = coord_wells, wells = optimized_well))\n",
    "            dict_result[(c, w)] = result_list\n",
    "            if best_result < np.mean(result_list):\n",
    "                best_result = np.mean(result_list)\n",
    "                best_param = (c, w)\n",
    "            print(f'NPV results for ({c, w}): {np.mean(result_list)}, best result: {best_result} {best_param}')\n",
    "    if with_opimization_parameter:\n",
    "      return dict_result\n",
    "    else:\n",
    "      return result_plot"
   ]
  },
  {
   "cell_type": "markdown",
   "metadata": {
    "pycharm": {
     "name": "#%% md\n"
    }
   },
   "source": [
    "Implementing experiments for a consistent and collaborative approach"
   ]
  },
  {
   "cell_type": "code",
   "execution_count": null,
   "metadata": {
    "id": "M6OmY1Lr1wpn",
    "pycharm": {
     "name": "#%%\n"
    }
   },
   "outputs": [],
   "source": [
    "def dist_to_extreme_point(extreme_point, point):\n",
    "    dist = (extreme_point[0] - point._x) ** 2 + (extreme_point[1] - point._y) ** 2\n",
    "    return np.sqrt(dist)\n",
    "field = Field(data = data, impossible_points = [[],[]])  \n",
    "coord_wells = [[], []]\n",
    "\n",
    "# Loss function for this task\n",
    "is_closed = False\n",
    "geometry = Geometry2D(is_closed=is_closed)\n",
    "def len_num_ration(struct: Structure, start_point = (0, 0), end_point = (20, 20), coord_wells = coord_wells, invalid_points = [[], []]):\n",
    "    l = []\n",
    "    p = []\n",
    "    for poly in struct.polygons:\n",
    "        l.append(geometry.get_length(poly))\n",
    "        p.append(poly.points)\n",
    "    length = sum(l)\n",
    "    \n",
    "    ratio = length \n",
    "    ratio += dist_to_extreme_point(start_point, p[0][0]) + dist_to_extreme_point(end_point, p[0][-1])\n",
    "    for i in range(len(invalid_points[0])):\n",
    "        if distance(Point(invalid_points[0][i], invalid_points[1][i]), struct, geometry) <= 0.5:\n",
    "            ratio += 4\n",
    "    for i in range(len(coord_wells[0])):\n",
    "        ratio += distance(Point(coord_wells[0][i], coord_wells[1][i]), struct, geometry)\n",
    "  \n",
    "    return ratio * 3000\n",
    "\n",
    "\n",
    "is_closed = False\n",
    "geometry = Geometry2D(is_closed=is_closed)\n",
    "domain = Domain(allowed_area=[(0, 0),\n",
    "                              (0, 20),\n",
    "                              (20, 20),\n",
    "                              (20, 0),\n",
    "                              (0, 0)],\n",
    "                geometry=geometry,\n",
    "                max_poly_num=1,\n",
    "                min_poly_num=1,\n",
    "                max_points_num=20,\n",
    "                min_points_num=9,\n",
    "                is_closed=is_closed)\n",
    "\n",
    "task_setup = Setup(domain=domain)\n",
    "npv_f = NPV(field, geometry = geometry)\n",
    "def algo(joint = True, count_well = 5, count_run = 5, invalid_points = [[], []]):\n",
    "  field = Field(data = data, impossible_points = invalid_points)  \n",
    "  # Start optimization\n",
    "  start = timeit.default_timer()\n",
    "\n",
    "  pop = None\n",
    "  parameters_for_GA_well = {'max_num_iteration': 20,\n",
    "                          'population_size_well': 50,\n",
    "                          'mutation_probability': 0.55,\n",
    "                          'crossover_probability': 0.95, \n",
    "                          'parents_portion': 0.3,\n",
    "                          'elit_ratio': 0.01,\n",
    "                          'r_mut': 2,\n",
    "                          'crossover_type':'uniform'}\n",
    "\n",
    "  parameters_for_well = {'count_well': count_well, \n",
    "                        'r': 2}\n",
    "\n",
    "  count_run = count_run\n",
    "  history = []\n",
    "  history_road = []\n",
    "  optimized_well_ = []\n",
    "  optimized_road_ = []\n",
    "\n",
    "  for run_ in range(count_run):\n",
    "    print(f'Experiment (No. {run_} of {count_run}) with size_invalid_points: {len(invalid_points[0])}')\n",
    "    opt_wells = Optimization_alg(field, parameters_for_well, parameters_for_GA_well, npv_f, invalid_points)\n",
    "    pop_well = None\n",
    "    optimized_structure = None\n",
    "\n",
    "    history_npv_for_well = []\n",
    "    history_npv_for_road = []\n",
    "    if joint:\n",
    "      for iter_ in range(30):\n",
    "          print(iter_)\n",
    "          pop_well, optimized_well = opt_wells.run(road_structure = optimized_structure, init_pop = pop_well)\n",
    "          coord_wells = [[well.start[0] for well in optimized_well], [well.start[1] for well in optimized_well]]\n",
    "          history_npv_for_well.append(-npv_f.calculated_NPV(optimized_well, optimized_structure))\n",
    "          \n",
    "\n",
    "      \n",
    "      #for _ in range(20):\n",
    "          pop, optimized_structure = optimize(task_setup=task_setup,\n",
    "                                        objective_function=len_num_ration,\n",
    "                                        pop_size=50,\n",
    "                                        max_gens=10, init_pop = pop, invalid_points = invalid_points, coord_wells = coord_wells)\n",
    "          \n",
    "          spend_time = timeit.default_timer() - start\n",
    "          if iter_ == 29:\n",
    "            # Visualize optimized structure\n",
    "            visualiser = StructVizualizer(task_setup.domain)\n",
    "            plt.figure(figsize=(7, 7))\n",
    "\n",
    "            info = {'spend_time': spend_time,\n",
    "                    'fitness': len_num_ration(optimized_structure, coord_wells = coord_wells, invalid_points = invalid_points),\n",
    "                    'type': 'road'}\n",
    "            visualiser.plot_structure(optimized_structure, info, start_point = (0, 0), end_point = (20, 20), coord_wells = coord_wells, invalid_points = invalid_points)\n",
    "            \n",
    "            plt.show()\n",
    "          history_npv_for_road.append(len_num_ration(optimized_structure, coord_wells = coord_wells, invalid_points = invalid_points))\n",
    "    else:\n",
    "      for iter_ in range(20):\n",
    "          print(iter_)\n",
    "          pop_well, optimized_well = opt_wells.run(road_structure = optimized_structure, init_pop = pop_well)\n",
    "          coord_wells = [[well.start[0] for well in optimized_well], [well.start[1] for well in optimized_well]]\n",
    "          history_npv_for_well.append(-npv_f.calculated_NPV(optimized_well, optimized_structure))\n",
    "          \n",
    "\n",
    "      \n",
    "      for iter_ in range(20):\n",
    "          print(iter_)\n",
    "          pop, optimized_structure = optimize(task_setup=task_setup,\n",
    "                                        objective_function=len_num_ration,\n",
    "                                        pop_size=50,\n",
    "                                        max_gens=10, init_pop = pop, invalid_points = invalid_points, coord_wells = coord_wells)\n",
    "          \n",
    "          spend_time = timeit.default_timer() - start\n",
    "          if iter_== 19:\n",
    "            # Visualize optimized structure\n",
    "            visualiser = StructVizualizer(task_setup.domain)\n",
    "            plt.figure(figsize=(7, 7))\n",
    "\n",
    "            info = {'spend_time': spend_time,\n",
    "                    'fitness': len_num_ration(optimized_structure, coord_wells = coord_wells, invalid_points = invalid_points),\n",
    "                    'type': 'road'}\n",
    "            visualiser.plot_structure(optimized_structure, info, start_point = (0, 0), end_point = (20, 20), coord_wells = coord_wells, invalid_points = invalid_points)\n",
    "            \n",
    "            plt.show()\n",
    "          history_npv_for_road.append(len_num_ration(optimized_structure, coord_wells = coord_wells, invalid_points = invalid_points))\n",
    "    optimized_well_.append(optimized_well)\n",
    "    optimized_road_.append(optimized_structure)\n",
    "\n",
    "    history.append(history_npv_for_well)\n",
    "    history_road.append(history_npv_for_road)\n",
    "  return optimized_well_, optimized_road_, history, history_road\n",
    "\n",
    "def algo_PSO(joint = True, count_well = 5, count_run = 5, invalid_points = [[], []]):\n",
    "  # Start optimization\n",
    "  start = timeit.default_timer()\n",
    "  field = Field(data = data, impossible_points = invalid_points)  \n",
    "  pop = None\n",
    "  parameters_for_PSO_well = {'max_num_iteration': 10,\n",
    "                                        'population_size_well': 50,\n",
    "                                        'c0': 1.193,\n",
    "                                        'c1': 1.193, \n",
    "                                        'w': 0.721}\n",
    "\n",
    "  parameters_for_well = {'count_well': count_well, \n",
    "                        'r': 2}\n",
    "\n",
    "  count_run = count_run\n",
    "  history = []\n",
    "  history_road = []\n",
    "  optimized_well_ = []\n",
    "  optimized_road_ = []\n",
    "\n",
    "  for run_ in range(count_run):\n",
    "    print(f'Experiment (No. {run_} of {count_run}) with size_invalid_points: {len(invalid_points[0])}')\n",
    "    \n",
    "    pop_well = None\n",
    "    optimized_well = None\n",
    "    optimized_structure = None\n",
    "\n",
    "    history_npv_for_well = []\n",
    "    history_npv_for_road = []\n",
    "    if joint:\n",
    "      for iter_ in range(30):\n",
    "          print(iter_)\n",
    "          pso_algo = PSO(field, parameters_for_PSO_well['population_size_well'],\n",
    "                        parameters_for_well, parameters_for_PSO_well['c0'],\n",
    "                        parameters_for_PSO_well['c1'], parameters_for_PSO_well['c1'], pop = pop_well, npv = npv_f, best = optimized_well)\n",
    "                    \n",
    "          pop_well, optimized_well = pso_algo.optimize(parameters_for_PSO_well['max_num_iteration'])\n",
    "          coord_wells = [[well.start[0] for well in optimized_well], [well.start[1] for well in optimized_well]]\n",
    "          history_npv_for_well.append(-npv_f.calculated_NPV(optimized_well, optimized_structure))\n",
    "          \n",
    "\n",
    "      \n",
    "      #for _ in range(20):\n",
    "          pop, optimized_structure = optimize(task_setup=task_setup,\n",
    "                                        objective_function=len_num_ration,\n",
    "                                        pop_size=50,\n",
    "                                        max_gens=10, init_pop = pop, invalid_points = invalid_points, coord_wells = coord_wells)\n",
    "          \n",
    "          spend_time = timeit.default_timer() - start\n",
    "          if iter_ == 29:\n",
    "            # Visualize optimized structure\n",
    "            visualiser = StructVizualizer(task_setup.domain)\n",
    "            plt.figure(figsize=(7, 7))\n",
    "\n",
    "            info = {'spend_time': spend_time,\n",
    "                    'fitness': len_num_ration(optimized_structure, coord_wells = coord_wells, invalid_points = invalid_points),\n",
    "                    'type': 'road'}\n",
    "            visualiser.plot_structure(optimized_structure, info, start_point = (0, 0), end_point = (20, 20), coord_wells = coord_wells, invalid_points = invalid_points)\n",
    "            \n",
    "            plt.show()\n",
    "          history_npv_for_road.append(len_num_ration(optimized_structure, coord_wells = coord_wells, invalid_points = invalid_points))\n",
    "    else:\n",
    "      for iter_ in range(20):\n",
    "          print(iter_)\n",
    "          pso_algo = PSO(field, parameters_for_PSO_well['population_size_well'],\n",
    "                        parameters_for_well, parameters_for_PSO_well['c0'],\n",
    "                        parameters_for_PSO_well['c1'], parameters_for_PSO_well['c1'], pop = pop_well, npv = npv_f, best = optimized_well)\n",
    "                    \n",
    "          pop_well, optimized_well = pso_algo.optimize(parameters_for_PSO_well['max_num_iteration'])\n",
    "          coord_wells = [[well.start[0] for well in optimized_well], [well.start[1] for well in optimized_well]]\n",
    "          history_npv_for_well.append(-npv_f.calculated_NPV(optimized_well, optimized_structure))\n",
    "          \n",
    "\n",
    "      \n",
    "      for iter_ in range(20):\n",
    "          print(iter_)\n",
    "          pop, optimized_structure = optimize(task_setup=task_setup,\n",
    "                                        objective_function=len_num_ration,\n",
    "                                        pop_size=50,\n",
    "                                        max_gens=10, init_pop = pop, invalid_points = invalid_points, coord_wells = coord_wells)\n",
    "          \n",
    "          spend_time = timeit.default_timer() - start\n",
    "          if iter_== 19:\n",
    "            # Visualize optimized structure\n",
    "            visualiser = StructVizualizer(task_setup.domain)\n",
    "            plt.figure(figsize=(7, 7))\n",
    "\n",
    "            info = {'spend_time': spend_time,\n",
    "                    'fitness': len_num_ration(optimized_structure, coord_wells = coord_wells, invalid_points = invalid_points),\n",
    "                    'type': 'road'}\n",
    "            visualiser.plot_structure(optimized_structure, info, start_point = (0, 0), end_point = (20, 20), coord_wells = coord_wells, invalid_points = invalid_points)\n",
    "            \n",
    "            plt.show()\n",
    "          history_npv_for_road.append(len_num_ration(optimized_structure, coord_wells = coord_wells, invalid_points = invalid_points))\n",
    "    optimized_well_.append(optimized_well)\n",
    "    optimized_road_.append(optimized_structure)\n",
    "\n",
    "    history.append(history_npv_for_well)\n",
    "    history_road.append(history_npv_for_road)\n",
    "  return optimized_well_, optimized_road_, history, history_road"
   ]
  },
  {
   "cell_type": "markdown",
   "metadata": {
    "pycharm": {
     "name": "#%% md\n"
    }
   },
   "source": [
    "Application of experiments"
   ]
  },
  {
   "cell_type": "code",
   "execution_count": null,
   "metadata": {
    "colab": {
     "base_uri": "https://localhost:8080/",
     "height": 235
    },
    "id": "SvwCc4697cnu",
    "outputId": "c5aa313e-24f4-46e7-9749-72cadcb27330",
    "pycharm": {
     "name": "#%%\n"
    }
   },
   "outputs": [
    {
     "ename": "TypeError",
     "evalue": "ignored",
     "output_type": "error",
     "traceback": [
      "\u001B[0;31m---------------------------------------------------------------------------\u001B[0m",
      "\u001B[0;31mTypeError\u001B[0m                                 Traceback (most recent call last)",
      "\u001B[0;32m<ipython-input-12-21340b430926>\u001B[0m in \u001B[0;36m<module>\u001B[0;34m()\u001B[0m\n\u001B[1;32m      1\u001B[0m \u001B[0mstep\u001B[0m \u001B[0;34m=\u001B[0m \u001B[0;36m15\u001B[0m\u001B[0;34m\u001B[0m\u001B[0;34m\u001B[0m\u001B[0m\n\u001B[1;32m      2\u001B[0m naive_approach = [[dict_res[j][i] for j in range(len(dict_res))] \n\u001B[0;32m----> 3\u001B[0;31m                                        for i in range(len(dict_res[0]))]\n\u001B[0m\u001B[1;32m      4\u001B[0m \u001B[0;34m\u001B[0m\u001B[0m\n\u001B[1;32m      5\u001B[0m flierprops = dict(marker='.', \n",
      "\u001B[0;31mTypeError\u001B[0m: 'NoneType' object is not subscriptable"
     ]
    }
   ],
   "source": [
    "step = 15\n",
    "naive_approach = [[dict_res[j][i] for j in range(len(dict_res))] \n",
    "                                       for i in range(len(dict_res[0]))]\n",
    "\n",
    "flierprops = dict(marker='.', \n",
    "                  linestyle='none')\n",
    "plt.boxplot(naive_approach, meanline = True, flierprops = flierprops)\n",
    "plt.plot(range(1, len(naive_approach) + 1), \n",
    "          np.mean(naive_approach, axis = 1), label = 'Average NPV roads value for 10 runs')\n",
    "plt.xticks(range(1, len(naive_approach) + 1), [step * i + step for i in range(len(naive_approach))], \n",
    "                 rotation=90)\n",
    "plt.xlabel('Iteration number')\n",
    "plt.ylabel('NPV values')\n",
    "plt.legend()\n",
    "plt.title(f'Learning curve for naive approach for 7 wells')\n",
    "plt.tight_layout()\n",
    "plt.savefig('NA_PSO_7_3000_lc.png')\n"
   ]
  },
  {
   "cell_type": "code",
   "execution_count": null,
   "metadata": {
    "id": "GIbkboQQhswR",
    "pycharm": {
     "name": "#%%\n"
    }
   },
   "outputs": [],
   "source": [
    "x = [0.5 + 0.1 * i for i in range(20)]\n",
    "y = [0.05 + 0.05 * i for i in range(19)]\n",
    "x, y =np.meshgrid(x, y) \n",
    "\n",
    "z = np.zeros(x.shape)\n",
    "for i in range(x.shape[0]):\n",
    "  for j in range(x.shape[1]):\n",
    "    key = (x[i][j], y[i, j])\n",
    "    z[i, j] = np.mean(dict_res[key]) "
   ]
  },
  {
   "cell_type": "code",
   "execution_count": null,
   "metadata": {
    "id": "CLLx-F8roi2D",
    "pycharm": {
     "name": "#%%\n"
    }
   },
   "outputs": [],
   "source": [
    "x = np.linspace(0.5, 2.5, 20)\n",
    "y = np.linspace(0.05, 0.95, 19)\n",
    "X, Y = np.meshgrid(x, y)\n",
    "\n",
    "contours = plt.contourf(X, Y, z, 20, cmap = 'YlOrRd')\n",
    "plt.xlabel('Parameter c_1, c_2')\n",
    "plt.ylabel('Parameter w')\n",
    "plt.title('Optimization of PSO hyperparameters\\n Max NPV values with parameters (с=1.193, cp = 0.721)')\n",
    "\n",
    "plt.colorbar();\n",
    "plt.savefig('PSO_hyper.png')"
   ]
  },
  {
   "cell_type": "code",
   "execution_count": null,
   "metadata": {
    "id": "_P4U4azooLHE",
    "pycharm": {
     "name": "#%%\n"
    }
   },
   "outputs": [],
   "source": [
    "fig = plt.figure()\n",
    "ax = fig.gca(projection='3d')\n",
    "ax.contour(x, y, z,\n",
    "                linewidths=np.arange(.5, 4, .5),\n",
    "                colors=('r', 'green', 'blue', (1, 1, 0), '#afeeee', '0.5'),\n",
    "                )\n",
    "ax.set_xlabel('Probability of mutation')\n",
    "ax.set_ylabel('Crossover probability')\n",
    "ax.set_zlabel('NPV values')\n",
    "plt.title('Optimization of GA hyperparameters\\n Max NPV values with parameters\\n (mp=0.6, cp = 0.9)')\n",
    "plt.savefig('100.png')"
   ]
  },
  {
   "cell_type": "code",
   "execution_count": null,
   "metadata": {
    "id": "HjSKlo3-bgpl",
    "pycharm": {
     "name": "#%%\n"
    }
   },
   "outputs": [],
   "source": [
    "225426.0421834106/222608.44005457303"
   ]
  },
  {
   "cell_type": "code",
   "execution_count": null,
   "metadata": {
    "id": "P7hokLKZrV5C",
    "pycharm": {
     "name": "#%%\n"
    }
   },
   "outputs": [],
   "source": [
    "flierprops = dict(marker='.', \n",
    "                  linestyle='none')\n",
    "plt.boxplot(history_boxplot, meanline = True, flierprops = flierprops)\n",
    "plt.plot(range(1, 51), np.mean(history_boxplot, axis = 1), label = 'Average NPV value for 5 runs')\n",
    "plt.xticks(range(1, 51, 2), [10 * i * 2 + 10 for i in range(50)], rotation=90)\n",
    "plt.xlabel('Iteration number')\n",
    "plt.ylabel('NPV values')\n",
    "plt.legend()\n",
    "plt.title('Learning curve for optimizing the location of 5 wells \\n with considering and optimizing roads')\n",
    "plt.show()"
   ]
  },
  {
   "cell_type": "code",
   "execution_count": null,
   "metadata": {
    "id": "4JG5mzTVGGOM",
    "pycharm": {
     "name": "#%%\n"
    }
   },
   "outputs": [],
   "source": [
    "history_boxplot_road = [[history_road[j][i] for j in range(len(history_road))] for i in range(len(history_road[0]))]"
   ]
  },
  {
   "cell_type": "code",
   "execution_count": null,
   "metadata": {
    "id": "KMwyO173GKWU",
    "pycharm": {
     "name": "#%%\n"
    }
   },
   "outputs": [],
   "source": [
    "flierprops = dict(marker='.', \n",
    "                  linestyle='none')\n",
    "plt.boxplot(history_boxplot_road, meanline = True, flierprops = flierprops)\n",
    "plt.plot(range(1, 81), np.mean(history_boxplot_road, axis = 1), label = 'Average NPV roads value for 5 runs')\n",
    "plt.xticks(range(1, 81), [10 * i + 10 for i in range(80)], rotation=90)\n",
    "plt.xlabel('Iteration number')\n",
    "plt.ylabel('NPV roads values')\n",
    "plt.legend()\n",
    "plt.title('Learning curve for optimizing the location of roads \\n with considering and optimizing 5 wells')\n",
    "plt.show()"
   ]
  },
  {
   "cell_type": "code",
   "execution_count": null,
   "metadata": {
    "id": "xl8UPfx5s1HK",
    "pycharm": {
     "name": "#%%\n"
    }
   },
   "outputs": [],
   "source": [
    "np.mean([npv_joint(optimized_road_[i], npv_f = npv_f, wells = optimized_well_[i]) for i in range(3)])"
   ]
  },
  {
   "cell_type": "code",
   "execution_count": null,
   "metadata": {
    "id": "lslp-dCO7xhE",
    "pycharm": {
     "name": "#%%\n"
    }
   },
   "outputs": [],
   "source": [
    "print(npv_f.calculated_NPV(optimized_well))"
   ]
  },
  {
   "cell_type": "code",
   "execution_count": null,
   "metadata": {
    "id": "xnvYPzij7yCr",
    "pycharm": {
     "name": "#%%\n"
    }
   },
   "outputs": [],
   "source": [
    "distance(Point(5, 6), optimized_structure, geometry)"
   ]
  },
  {
   "cell_type": "code",
   "execution_count": null,
   "metadata": {
    "id": "3gYMcBgiPfN3",
    "pycharm": {
     "name": "#%%\n"
    }
   },
   "outputs": [],
   "source": [
    "plt.plot(range(0, 4),[3.21, 4.66, 8.73, 23.17], label = '3 wells')\n",
    "plt.plot(range(0, 4),[1.93, 2.66, 5.35, 24.38], label = '5 wells')\n",
    "plt.plot(range(0, 4),[2.48, 7.26, 4.49, 17.38], label = '7 wells')\n",
    "plt.xticks(range(0, 4), [500, 1000, 3000, 4000])\n",
    "plt.xlabel('Road cost coefficient')\n",
    "plt.ylabel('Values of the K coefficient')\n",
    "plt.legend()"
   ]
  },
  {
   "cell_type": "code",
   "execution_count": null,
   "metadata": {
    "id": "-eEFVtDSQPjv",
    "pycharm": {
     "name": "#%%\n"
    }
   },
   "outputs": [],
   "source": [
    "plt.plot(range(0, 4),[1.16, 6.14, 12.13, 21.78], label = '3 wells')\n",
    "plt.plot(range(0, 4),[1.43, 4.29, 6.83, 15.03], label = '5 wells')\n",
    "plt.plot(range(0, 4),[2.99, 3.54, 8.35, 16.85], label = '7 wells')\n",
    "plt.xticks(range(0, 4), [500, 1000, 3000, 4000])\n",
    "plt.xlabel('Road cost coefficient')\n",
    "plt.ylabel('Values of the K coefficient')\n",
    "plt.legend()"
   ]
  }
 ],
 "metadata": {
  "accelerator": "TPU",
  "colab": {
   "collapsed_sections": [],
   "name": "Копия блокнота \"Untitled1.ipynb\" 5",
   "provenance": [],
   "toc_visible": true
  },
  "kernelspec": {
   "display_name": "Python 3 (ipykernel)",
   "language": "python",
   "name": "python3"
  },
  "language_info": {
   "codemirror_mode": {
    "name": "ipython",
    "version": 3
   },
   "file_extension": ".py",
   "mimetype": "text/x-python",
   "name": "python",
   "nbconvert_exporter": "python",
   "pygments_lexer": "ipython3",
   "version": "3.9.7"
  }
 },
 "nbformat": 4,
 "nbformat_minor": 4
}